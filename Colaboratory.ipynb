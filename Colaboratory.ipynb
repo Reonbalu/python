{
  "nbformat": 4,
  "nbformat_minor": 0,
  "metadata": {
    "colab": {
      "name": "Colaboratory へようこそ",
      "provenance": [],
      "collapsed_sections": [],
      "include_colab_link": true
    },
    "kernelspec": {
      "display_name": "Python 3",
      "name": "python3"
    }
  },
  "cells": [
    {
      "cell_type": "markdown",
      "metadata": {
        "id": "view-in-github",
        "colab_type": "text"
      },
      "source": [
        "<a href=\"https://colab.research.google.com/github/Reonbalu/python/blob/main/Colaboratory.ipynb\" target=\"_parent\"><img src=\"https://colab.research.google.com/assets/colab-badge.svg\" alt=\"Open In Colab\"/></a>"
      ]
    },
    {
      "cell_type": "code",
      "metadata": {
        "colab": {
          "base_uri": "https://localhost:8080/"
        },
        "id": "OL7XRip2NDRO",
        "outputId": "67e76829-f924-4c5c-99a1-ef477e046c7f"
      },
      "source": [
        "#計算機クラス\n",
        "class Calculator:\n",
        "    # コンストラクタ\n",
        "    def __init__(self):\n",
        "        self.a = 0\n",
        "        self.b = 0\n",
        "    # セットメソッド(引数、a、b)\n",
        "    def set(self,a ,b):\n",
        "        self.a = a\n",
        "        self.b = b\n",
        "    # 足し算結果の取得\n",
        "    def add(self):\n",
        "        return self.a + self.b\n",
        "\n",
        "#　インスタンスの生成\n",
        "c = Calculator()\n",
        "# 2つの値の設定\n",
        "c.set(10, 5)\n",
        "# addメソッドを実行し計算結果を出す\n",
        "result = c.add()\n",
        "print(result)\n"
      ],
      "execution_count": 2,
      "outputs": [
        {
          "output_type": "stream",
          "text": [
            "15\n"
          ],
          "name": "stdout"
        }
      ]
    }
  ]
}